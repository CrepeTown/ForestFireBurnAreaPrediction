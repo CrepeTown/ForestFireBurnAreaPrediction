{
 "cells": [
  {
   "cell_type": "markdown",
   "metadata": {},
   "source": [
    "# Forest Fire Burn Area Prediction - CS345 Final Project"
   ]
  },
  {
   "cell_type": "markdown",
   "metadata": {},
   "source": [
    "### - Kyle Cummings & Mike Peyton"
   ]
  },
  {
   "cell_type": "code",
   "execution_count": 1,
   "metadata": {},
   "outputs": [],
   "source": [
    "import pandas as pd\n",
    "import numpy as np\n",
    "import matplotlib.pyplot as plt\n",
    "from sklearn.model_selection import train_test_split\n",
    "from sklearn.linear_model import LinearRegression\n",
    "from sklearn import linear_model\n",
    "from sklearn.linear_model import ElasticNet\n"
   ]
  },
  {
   "cell_type": "code",
   "execution_count": 2,
   "metadata": {},
   "outputs": [],
   "source": [
    "data = pd.read_csv(\"fires.csv\", sep = \",\") #Read In Values\n",
    "\n",
    "Y = np.array(data[['area']].values)\n",
    "X = data[data.columns[:-1]]"
   ]
  },
  {
   "cell_type": "markdown",
   "metadata": {},
   "source": [
    "**Feature Correlation Values:**"
   ]
  },
  {
   "cell_type": "code",
   "execution_count": 3,
   "metadata": {},
   "outputs": [],
   "source": [
    "dataCorr = np.array(data.corr()[['area']].values) #Get Area Correlation Values \n",
    "featureCorr = dataCorr[:,0][:-1] #Remove Area to Area Correlation (Always 1)\n",
    "features = ['X','Y','month','day','FFMC', 'DMC', 'DC', 'ISI', 'temp', 'RH', 'wind', 'rain']"
   ]
  },
  {
   "cell_type": "code",
   "execution_count": 4,
   "metadata": {
    "scrolled": true
   },
   "outputs": [
    {
     "data": {
      "image/png": "[encoded data removed]",
      "text/plain": [
       "<Figure size 432x288 with 1 Axes>"
      ]
     },
     "metadata": {
      "needs_background": "light"
     },
     "output_type": "display_data"
    }
   ],
   "source": [
    "plt.bar(features, featureCorr, color = ['#FF6633', '#FFB399', '#FF33FF', '#FFAF32', '#00B3E6',  '#E6B333', '#3366E6', '#999966', '#99FF99', '#B34D4D','#80B300'])\n",
    "plt.ylabel('Correlation', size = 14)\n",
    "plt.xlabel('Features', size = 14)\n",
    "plt.show()"
   ]
  },
  {
   "cell_type": "markdown",
   "metadata": {},
   "source": [
    "**Below, we analyze the mean of the correlation coefficient arrays to see which dataset will give better correlation**"
   ]
  },
  {
   "cell_type": "code",
   "execution_count": 5,
   "metadata": {},
   "outputs": [],
   "source": [
    "#Remove Features With Lowest Correlation Coefficient \n",
    "featureCorr = np.abs(featureCorr)\n",
    "coef_improved = np.array(featureCorr)\n",
    "coef_improved = np.delete(featureCorr,11)\n",
    "coef_improved = np.delete(featureCorr,10)\n",
    "coef_improved = np.delete(featureCorr,7)\n",
    "coef_improved = np.delete(featureCorr,3)"
   ]
  },
  {
   "cell_type": "code",
   "execution_count": 6,
   "metadata": {},
   "outputs": [
    {
     "name": "stdout",
     "output_type": "stream",
     "text": [
      "Mean Correlation w/o removal: 0.04350259434725603\n",
      "Mean Correlation w/ removal: 0.04573775696608803\n"
     ]
    }
   ],
   "source": [
    "print('Mean Correlation w/o removal:', np.mean(featureCorr))\n",
    "print('Mean Correlation w/ removal:',np.mean(coef_improved))"
   ]
  },
  {
   "cell_type": "markdown",
   "metadata": {},
   "source": [
    "**Fitting the regression with degree 1 on the original dataset**"
   ]
  },
  {
   "cell_type": "code",
   "execution_count": 7,
   "metadata": {},
   "outputs": [],
   "source": [
    "X_train, X_test, y_train, y_test = train_test_split(X, Y, test_size=.3, random_state = 2)\n",
    "\n",
    "linreg = LinearRegression()\n",
    "linreg.fit(X_train, y_train)\n",
    "\n",
    "y_pred = linreg.predict(X_test)"
   ]
  },
  {
   "cell_type": "code",
   "execution_count": 8,
   "metadata": {},
   "outputs": [
    {
     "data": {
      "text/plain": [
       "19.27078786187161"
      ]
     },
     "execution_count": 8,
     "metadata": {},
     "output_type": "execute_result"
    }
   ],
   "source": [
    "np.mean(np.abs(y_pred-y_test)) #Error calculation"
   ]
  },
  {
   "cell_type": "markdown",
   "metadata": {},
   "source": [
    "**Fitting the regression with degree 1 on the improved dataset**"
   ]
  },
  {
   "cell_type": "code",
   "execution_count": 9,
   "metadata": {},
   "outputs": [],
   "source": [
    "new_X = np.array(X)\n",
    "new_X = np.delete(new_X, 11, 1)\n",
    "new_X = np.delete(new_X, 10, 1)\n",
    "new_X = np.delete(new_X, 7, 1)\n",
    "new_X = np.delete(new_X, 3, 1)\n",
    "\n",
    "X_train, X_test, y_train, y_test = train_test_split(new_X, Y, test_size=.3, random_state=2)\n",
    "\n",
    "linreg = LinearRegression()\n",
    "linreg.fit(X_train, y_train)\n",
    "y_pred = linreg.predict(X_test)"
   ]
  },
  {
   "cell_type": "code",
   "execution_count": 10,
   "metadata": {},
   "outputs": [
    {
     "name": "stdout",
     "output_type": "stream",
     "text": [
      "Intercept [20.38152609]\n",
      "19.616353885999512\n"
     ]
    }
   ],
   "source": [
    "print('Intercept', linreg.intercept_)\n",
    "print(np.mean(np.abs(y_pred-y_test))) #Error calculation"
   ]
  },
  {
   "cell_type": "markdown",
   "metadata": {},
   "source": [
    "**Elastic Net Regression**"
   ]
  },
  {
   "cell_type": "code",
   "execution_count": 11,
   "metadata": {},
   "outputs": [],
   "source": [
    "new_X = np.array(X)\n",
    "Y = (Y - np.mean(Y)) / np.std(Y)\n",
    "X_train, X_test, y_train, y_test = train_test_split(X, Y, test_size=.3, random_state = 2)\n",
    "\n",
    "regr = ElasticNet(random_state=0)\n",
    "regr.fit(X_train, y_train)\n",
    "y_pred = regr.predict(X_test)"
   ]
  },
  {
   "cell_type": "code",
   "execution_count": 12,
   "metadata": {},
   "outputs": [
    {
     "name": "stdout",
     "output_type": "stream",
     "text": [
      "Intercept [0.00995592]\n",
      "0.3148835475394102\n"
     ]
    }
   ],
   "source": [
    "print('Intercept', regr.intercept_)\n",
    "print(np.mean(np.abs(y_pred-y_test))) #Error calculation"
   ]
  },
  {
   "cell_type": "code",
   "execution_count": 13,
   "metadata": {},
   "outputs": [],
   "source": [
    "Y_data = np.array(data[['RH']].values)"
   ]
  },
  {
   "cell_type": "code",
   "execution_count": 14,
   "metadata": {},
   "outputs": [
    {
     "data": {
      "image/png": "[encoded data removed]",
      "text/plain": [
       "<Figure size 432x288 with 1 Axes>"
      ]
     },
     "metadata": {
      "needs_background": "light"
     },
     "output_type": "display_data"
    }
   ],
   "source": [
    "linreg = LinearRegression()\n",
    "Y = (Y - np.mean(Y)) / np.std(Y)\n",
    "linreg.fit(Y, Y_data)\n",
    "y_pred = linreg.predict(Y)\n",
    "plt.scatter(Y, Y_data,  color='blue', alpha=0.5, label = 'data')\n",
    "plt.plot(Y, y_pred, color='black', alpha=0.8,linewidth=2, label = 'model')\n",
    "plt.show()"
   ]
  },
  {
   "cell_type": "code",
   "execution_count": null,
   "metadata": {},
   "outputs": [],
   "source": []
  }
 ],
 "metadata": {
  "kernelspec": {
   "display_name": "Python 3",
   "language": "python",
   "name": "python3"
  },
  "language_info": {
   "codemirror_mode": {
    "name": "ipython",
    "version": 3
   },
   "file_extension": ".py",
   "mimetype": "text/x-python",
   "name": "python",
   "nbconvert_exporter": "python",
   "pygments_lexer": "ipython3",
   "version": "3.8.3"
  }
 },
 "nbformat": 4,
 "nbformat_minor": 4
}
