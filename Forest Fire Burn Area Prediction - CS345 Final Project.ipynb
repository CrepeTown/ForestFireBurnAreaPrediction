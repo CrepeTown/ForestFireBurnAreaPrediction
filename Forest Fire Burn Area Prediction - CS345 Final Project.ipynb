{
 "cells": [
  {
   "cell_type": "markdown",
   "metadata": {},
   "source": [
    "# Forest Fire Burn Area Prediction - CS345 Final Project"
   ]
  },
  {
   "cell_type": "markdown",
   "metadata": {},
   "source": [
    "#### - Kyle Cummings & Mike Peyton"
   ]
  },
  {
   "cell_type": "code",
   "execution_count": 95,
   "metadata": {},
   "outputs": [],
   "source": [
    "import pandas as pd\n",
    "import numpy as np\n",
    "import matplotlib.pyplot as plt"
   ]
  },
  {
   "cell_type": "code",
   "execution_count": 102,
   "metadata": {},
   "outputs": [
    {
     "name": "stdout",
     "output_type": "stream",
     "text": [
      "     X    Y  month  day  FFMC   DMC     DC  ISI  temp    RH  wind  rain  area\n",
      "0  7.0  5.0    7.0  0.0  86.2  26.2   94.3  5.1   8.2  51.0   6.7   0.0   0.0\n",
      "1  7.0  4.0   10.0  5.0  90.6  35.4  669.1  6.7  18.0  33.0   0.9   0.0   0.0\n",
      "2  7.0  4.0   10.0  2.0  90.6  43.7  686.9  6.7  14.6  33.0   1.3   0.0   0.0\n",
      "3  8.0  6.0    7.0  0.0  91.7  33.3   77.5  9.0   8.3  97.0   4.0   0.2   0.0\n",
      "4  8.0  6.0    7.0  3.0  89.3  51.3  102.2  9.6  11.4  99.0   1.8   0.0   0.0\n"
     ]
    }
   ],
   "source": [
    "data = pd.read_csv(\"forest_fires_scikit_label_dataset.csv\", sep = \",\") \n",
    "print(data.head())\n",
    "areaCorr = pd.DataFrame(data.corr()[12:]).to_numpy()\n",
    "areaCorr = areaCorr[0][:-1:]\n",
    "features = ['X','Y','month','day','FFMC', 'DMC', 'DC', 'ISI', 'temp', 'RH', 'wind', 'rain']"
   ]
  },
  {
   "cell_type": "code",
   "execution_count": 103,
   "metadata": {},
   "outputs": [
    {
     "data": {
      "image/png": "[encoded data removed]",
      "text/plain": [
       "<Figure size 432x288 with 1 Axes>"
      ]
     },
     "metadata": {
      "needs_background": "light"
     },
     "output_type": "display_data"
    }
   ],
   "source": [
    "plt.bar(features, areaCorr, color = ['#FF6633', '#FFB399', '#FF33FF', '#FFAF32', '#00B3E6',  '#E6B333', '#3366E6', '#999966', '#99FF99', '#B34D4D','#80B300'])\n",
    "plt.show()"
   ]
  }
 ],
 "metadata": {
  "kernelspec": {
   "display_name": "Python 3",
   "language": "python",
   "name": "python3"
  },
  "language_info": {
   "codemirror_mode": {
    "name": "ipython",
    "version": 3
   },
   "file_extension": ".py",
   "mimetype": "text/x-python",
   "name": "python",
   "nbconvert_exporter": "python",
   "pygments_lexer": "ipython3",
   "version": "3.8.3"
  }
 },
 "nbformat": 4,
 "nbformat_minor": 4
}
